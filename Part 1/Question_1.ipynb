{
 "cells": [
  {
   "cell_type": "markdown",
   "id": "c004a649",
   "metadata": {},
   "source": [
    "# PART ONE \n",
    "### Sentence Boundary Detection\n",
    "Write a program that splits a document into sentences. The input to your program should be\n",
    "a file containing text. The output should be a new file with each sentence from the first file on\n",
    "a separate line.\n",
    "\n",
    "For example, if the input file contains the following:\n",
    "With all the fawning end-of-the-year kudos currently circulating, it’s easy to forget that a\n",
    "sizable number of actual bad movies came out in 2012. Well, consider this a refresher! From\n",
    "failed blockbuster tentpoles (”Battleship”) to would-be hilarious comedies (“The Watch”) to\n",
    "lame scare-challenged horror flicks (“The Apparition”) to...uh, well, pretty much anything\n",
    "involving Mr. Tyler Perry, there’s no doubt that the last 366 days have come with a heaping\n",
    "helping of truly heinous cinematic stinkers. So what better time for an accounting of the\n",
    "year’s most outrageous big-screen abominations than on the eve of the coming apocalypse?\n",
    "\n",
    "\n",
    "The output file should contain the following:\n",
    "\n",
    "With all the fawning end-of-the-year kudos currently circulating, it’s easy to forget that a\n",
    "sizable number of actual bad movies came out in 2012.\n",
    "Well, consider this a refresher!\n",
    "From failed blockbuster tentpoles (”Battleship”) to would-be hilarious comedies (“The\n",
    "Watch”) to lame scare-challenged horror flicks (“The Apparition”) to...uh, well, pretty much\n",
    "anything involving Mr. Tyler Perry, there’s no doubt that the last 366 days have come with a\n",
    "heaping helping of truly heinous cinematic stinkers.\n",
    "So what better time for an accounting of the year’s most outrageous big-screen\n",
    "abominations than on the eve of the coming apocalypse?\n",
    "\n"
   ]
  },
  {
   "cell_type": "code",
   "execution_count": 14,
   "id": "14698cc8",
   "metadata": {},
   "outputs": [
    {
     "name": "stdout",
     "output_type": "stream",
     "text": [
      "Length :  638\n",
      "\n",
      "File Text:\n",
      " With all the fawning end-of-the-year kudos currently circulating, it’s easy to forget that a sizable number of actual bad movies came out in 2012. Well, consider this a refresher! From failed blockbuster tentpoles (”Battleship”) to would-be hilarious comedies (“The Watch”) to lame scare-challenged horror flicks (“The Apparition”) to...uh, well, pretty much anything involving Mr. Tyler Perry, there’s no doubt that the last 366 days have come with a heaping helping of truly heinous cinematic stinkers. So what better time for an accounting of the year’s most outrageous big-screen abominations than on the eve of the coming apocalypse?\n"
     ]
    }
   ],
   "source": [
    "#Part 1\n",
    "with open('input_file.txt', \"r\", encoding='utf-8') as file:\n",
    "    text_data = file.read()\n",
    "    text_data=text_data.replace('\\n',' ')\n",
    "    print('Length : ',len(text_data))\n",
    "    print('\\nFile Text:\\n',text_data)\n",
    "    "
   ]
  },
  {
   "cell_type": "code",
   "execution_count": 18,
   "id": "b898d74b",
   "metadata": {},
   "outputs": [
    {
     "name": "stdout",
     "output_type": "stream",
     "text": [
      "[145, 178, 503, 637]\n"
     ]
    }
   ],
   "source": [
    "position=[]                     # To store positions of sentence split\n",
    "punct=['.','?',';','!']         # sentences mostly split on these punctuations.\n",
    "for i in range(len(text_data)): # This loop will be go by each character of text.\n",
    "    if text_data[i] in punct:   # If character found in punctuation list then it check wether that index is less than \n",
    "        if i+1<len(text_data):  # length of text.\n",
    "            if text_data[i+1] == ' ': # if yes it check next character is an empty space then check is there any \n",
    "                                      # previous relates to like Mr. or Mrs. or Dr. then it pass \n",
    "                if (text_data[i-2:i] == 'Mr') or (text_data[i-3:i]) == 'Mrs' or (text_data[i-2:i == 'Dr']):\n",
    "                    pass\n",
    "                else:\n",
    "                    position.append(i) #else it store the punctuation position\n",
    "        else:  #it is a last character of text \n",
    "            position.append(i) #store the punctuation position\n",
    "\n",
    "print(position)"
   ]
  },
  {
   "cell_type": "code",
   "execution_count": 24,
   "id": "72aacb98",
   "metadata": {},
   "outputs": [],
   "source": [
    "sentences=[] # Now I have punctuation position now I can break the text into sentences and save to sentences list\n",
    "\n",
    "for i in range(0,len(position)-1): #loop will run length of position minus one\n",
    "    if i==0: # if i=0 is because our first character start from zero but here 0 is a first index of position list  \n",
    "        sentences.append(text_data[0:position[i]+1]) # text first break down from 0 to 145(position[0]) \n",
    "        sentences.append(text_data[position[i]+2:position[i+1]+1]) # position[0]to (position[1])\n",
    "                                                                   # +2 becuase I have a position of punctuation \n",
    "                                                                   # after punctuation there is a space and then \n",
    "                                                                   # I have character in index. \n",
    "                                                                   # +1 to incluse last positon in slices of list\n",
    "                                                                   # it will not include last position \n",
    "                    \n",
    "    else:\n",
    "        sentences.append(text_data[position[i]+2:position[i+1]+1]) \n",
    "\n",
    "file.close() #close file"
   ]
  },
  {
   "cell_type": "code",
   "execution_count": 25,
   "id": "0f24605a",
   "metadata": {},
   "outputs": [
    {
     "name": "stdout",
     "output_type": "stream",
     "text": [
      "With all the fawning end-of-the-year kudos currently circulating, it’s easy to forget that a sizable number of actual bad movies came out in 2012.\n",
      "Well, consider this a refresher!\n",
      "From failed blockbuster tentpoles (”Battleship”) to would-be hilarious comedies (“The Watch”) to lame scare-challenged horror flicks (“The Apparition”) to...uh, well, pretty much anything involving Mr. Tyler Perry, there’s no doubt that the last 366 days have come with a heaping helping of truly heinous cinematic stinkers.\n",
      "So what better time for an accounting of the year’s most outrageous big-screen abominations than on the eve of the coming apocalypse?\n"
     ]
    }
   ],
   "source": [
    "print(*sentences,sep=\"\\n\") #print sentences output"
   ]
  },
  {
   "cell_type": "code",
   "execution_count": 13,
   "id": "d1fd7ac6",
   "metadata": {},
   "outputs": [],
   "source": [
    "with open('sentence_file.txt',\"w\") as file: #create a output file\n",
    "    for i in sentences: # loop to write sentence by sentence in file\n",
    "        file.write(i+'\\n')"
   ]
  },
  {
   "cell_type": "code",
   "execution_count": null,
   "id": "903d6af4",
   "metadata": {},
   "outputs": [],
   "source": []
  },
  {
   "cell_type": "code",
   "execution_count": null,
   "id": "f03c1d2d",
   "metadata": {},
   "outputs": [],
   "source": []
  }
 ],
 "metadata": {
  "kernelspec": {
   "display_name": "Python 3 (ipykernel)",
   "language": "python",
   "name": "python3"
  },
  "language_info": {
   "codemirror_mode": {
    "name": "ipython",
    "version": 3
   },
   "file_extension": ".py",
   "mimetype": "text/x-python",
   "name": "python",
   "nbconvert_exporter": "python",
   "pygments_lexer": "ipython3",
   "version": "3.8.12"
  }
 },
 "nbformat": 4,
 "nbformat_minor": 5
}
