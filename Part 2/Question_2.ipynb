{
 "cells": [
  {
   "cell_type": "markdown",
   "id": "96ced437",
   "metadata": {},
   "source": [
    "# PART TWO \n",
    "### Language Modelling\n",
    "\n",
    "Implement an unsmoothed bigram language model. Train your model on the following toy\n",
    "corpus:\n",
    "- \\<s> a b \\</s>\n",
    "- \\<s> b b \\</s>\n",
    "- \\<s> b a \\</s>\n",
    "- \\<s> a a \\</s>\n",
    "\n",
    "Calculate and print out the probability of each of the following strings:\n",
    "- \\<s> b \\</s>\n",
    "- \\<s> a \\</s>\n",
    "- \\<s> a b \\</s>\n",
    "- \\<s> a a \\</s>\n",
    "- \\<s> a b a \\</s>"
   ]
  },
  {
   "cell_type": "code",
   "execution_count": 29,
   "id": "28404efc",
   "metadata": {},
   "outputs": [],
   "source": [
    "def unigram_fre(train_corpus):  # Function to calculate a frequency of single words in corpus\n",
    "    unigram={}                  # Intialize the dictionary  \n",
    "    for i in train_corpus:      # loop to go sentence by sentence in corpus\n",
    "        for j in i.split(' '):  # split the sentence into words and run a loop to get each word\n",
    "            if j in unigram.keys(): # checking if that word in the dictionary then increase its count value by one\n",
    "                unigram[j]+=1\n",
    "            else:               # if not then create a new key in dictionary with value count one \n",
    "                unigram[j]=1\n",
    "    \n",
    "    return unigram              # return a unigram frequency or count value\n",
    "\n",
    "            \n",
    "def bigram_fre(train_corpus):  # Function to calculate a frequency of bigram words (new word|previous word) in corpus\n",
    "    bigram={}                  # Intialize the dictionary\n",
    "    for i in train_corpus:     # loop to go sentence by sentence in corpus\n",
    "        sentence=i.split(' ')  # split the sentence into words\n",
    "        for j in range(1,len(sentence)): # Run a loop with position which is a Second word in a sentence \n",
    "            exa=sentence[j]+'|'+sentence[j-1] # I create a string like bigram to store as key ex 'a|<s>'\n",
    "            if exa in bigram.keys(): # if that bigram is in the dictionary keys then increase its count value by one\n",
    "                bigram[exa]+=1\n",
    "            else:\n",
    "                bigram[exa]=1  #if not then add a new Bigram as key in dictionary with value count one\n",
    "    \n",
    "    return bigram\n",
    "\n",
    "                \n",
    "def testcorpus(test_corpus,unigram_frequency,bigram_counts): # This Function is to check how out test corpus performs \n",
    "                                                             # on train model \n",
    "    for k in test_corpus:                                    # loop to go sentence by sentence in corpus\n",
    "        sentence= k.split(' ')                               # split sentence into words\n",
    "        total=1  #intialize to store output for each sentence and anything multiply with one doesnot affect output.\n",
    "        for j in range(1,len(sentence)): # Run a loop with position which is a Second word in a sentence \n",
    "            exa=sentence[j]+'|'+sentence[j-1] #create a string like bigram to store as key ex 'a|<s>'\n",
    "            # total store each bigram results\n",
    "            # bigram_counts[exa]/unigram_frequency[sentence[j-1]] this equation \n",
    "            # bigram_counts[exa] is fetch the bigram(exa) value count from  bigram_counts dictionary \n",
    "            # unigram_frequency[sentence[j-1]] fetch the value of a previous word frequency only from unigram frequency\n",
    "            \n",
    "            total=total * (bigram_counts[exa]/unigram_frequency[sentence[j-1]]) \n",
    "            #print('Bigram ',exa,'  its Probability: ' ,bigram_counts[exa]/unigram_frequency[sentence[j-1]])\n",
    "\n",
    "        print('\\nSentence -> \"',k,'\" its Probability:',total) # print each sentence probability \n",
    "    return"
   ]
  },
  {
   "cell_type": "code",
   "execution_count": 30,
   "id": "56b47d72",
   "metadata": {},
   "outputs": [],
   "source": [
    "train_corpus=[           # train corpus\n",
    "    '<s> a b </s>',\n",
    "    '<s> b b </s>',\n",
    "    '<s> b a </s>',\n",
    "    '<s> a a </s>'\n",
    "]\n",
    "\n",
    "test_corpus=[          # test corpus\n",
    "        '<s> b </s>',\n",
    "        '<s> a </s>',\n",
    "        '<s> a b </s>',\n",
    "        '<s> a a </s>',\n",
    "        '<s> a b a </s>',\n",
    "]"
   ]
  },
  {
   "cell_type": "code",
   "execution_count": 31,
   "id": "fe6d0645",
   "metadata": {},
   "outputs": [
    {
     "data": {
      "text/plain": [
       "{'<s>': 4, 'a': 4, 'b': 4, '</s>': 4}"
      ]
     },
     "execution_count": 31,
     "metadata": {},
     "output_type": "execute_result"
    }
   ],
   "source": [
    "unigram_frequency=unigram_fre(train_corpus)  #calcuate a train corpus words frequencey \n",
    "unigram_frequency"
   ]
  },
  {
   "cell_type": "code",
   "execution_count": 32,
   "id": "b797c50b",
   "metadata": {},
   "outputs": [
    {
     "data": {
      "text/plain": [
       "{'a|<s>': 2,\n",
       " 'b|a': 1,\n",
       " '</s>|b': 2,\n",
       " 'b|<s>': 2,\n",
       " 'b|b': 1,\n",
       " 'a|b': 1,\n",
       " '</s>|a': 2,\n",
       " 'a|a': 1}"
      ]
     },
     "execution_count": 32,
     "metadata": {},
     "output_type": "execute_result"
    }
   ],
   "source": [
    "bigram_counts=bigram_fre(train_corpus)   #calcuate a train corpus bigrams counts \n",
    "bigram_counts"
   ]
  },
  {
   "cell_type": "code",
   "execution_count": 33,
   "id": "a9f8bdca",
   "metadata": {},
   "outputs": [
    {
     "name": "stdout",
     "output_type": "stream",
     "text": [
      "\n",
      "Sentence -> \" <s> b </s> \" its Probability: 0.25\n",
      "\n",
      "Sentence -> \" <s> a </s> \" its Probability: 0.25\n",
      "\n",
      "Sentence -> \" <s> a b </s> \" its Probability: 0.0625\n",
      "\n",
      "Sentence -> \" <s> a a </s> \" its Probability: 0.0625\n",
      "\n",
      "Sentence -> \" <s> a b a </s> \" its Probability: 0.015625\n"
     ]
    }
   ],
   "source": [
    "testcorpus(test_corpus,unigram_frequency,bigram_counts) # check on test corpus"
   ]
  }
 ],
 "metadata": {
  "kernelspec": {
   "display_name": "Python 3 (ipykernel)",
   "language": "python",
   "name": "python3"
  },
  "language_info": {
   "codemirror_mode": {
    "name": "ipython",
    "version": 3
   },
   "file_extension": ".py",
   "mimetype": "text/x-python",
   "name": "python",
   "nbconvert_exporter": "python",
   "pygments_lexer": "ipython3",
   "version": "3.8.12"
  }
 },
 "nbformat": 4,
 "nbformat_minor": 5
}
